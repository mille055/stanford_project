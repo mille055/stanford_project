{
  "cells": [
    {
      "cell_type": "markdown",
      "metadata": {
        "id": "view-in-github",
        "colab_type": "text"
      },
      "source": [
        "<a href=\"https://colab.research.google.com/github/mille055/stanford_project/blob/dockerversion/app/notebooks/Stanford_CS231N.ipynb\" target=\"_parent\"><img src=\"https://colab.research.google.com/assets/colab-badge.svg\" alt=\"Open In Colab\"/></a>"
      ]
    },
    {
      "cell_type": "code",
      "execution_count": 1,
      "metadata": {
        "id": "LRESl50fER75"
      },
      "outputs": [],
      "source": [
        "COLAB_FLAG = True   # whether running on colab or locally on computer"
      ]
    },
    {
      "cell_type": "code",
      "source": [
        "%load_ext autoreload\n",
        "%autoreload 2"
      ],
      "metadata": {
        "id": "3Z5W4j_akrYS"
      },
      "execution_count": 2,
      "outputs": []
    },
    {
      "cell_type": "code",
      "execution_count": 3,
      "metadata": {
        "colab": {
          "base_uri": "https://localhost:8080/"
        },
        "id": "KAb0TJdUER77",
        "outputId": "8708ba25-cef3-469a-c2a6-af1ca808d7ef"
      },
      "outputs": [
        {
          "output_type": "stream",
          "name": "stdout",
          "text": [
            "Looking in indexes: https://pypi.org/simple, https://us-python.pkg.dev/colab-wheels/public/simple/\n",
            "Collecting pydicom==2.1.2\n",
            "  Downloading pydicom-2.1.2-py3-none-any.whl (1.9 MB)\n",
            "\u001b[2K     \u001b[90m━━━━━━━━━━━━━━━━━━━━━━━━━━━━━━━━━━━━━━━━\u001b[0m \u001b[32m1.9/1.9 MB\u001b[0m \u001b[31m68.1 MB/s\u001b[0m eta \u001b[36m0:00:00\u001b[0m\n",
            "\u001b[?25hInstalling collected packages: pydicom\n",
            "Successfully installed pydicom-2.1.2\n",
            "Looking in indexes: https://pypi.org/simple, https://us-python.pkg.dev/colab-wheels/public/simple/\n",
            "Collecting monai\n",
            "  Downloading monai-1.1.0-202212191849-py3-none-any.whl (1.2 MB)\n",
            "\u001b[2K     \u001b[90m━━━━━━━━━━━━━━━━━━━━━━━━━━━━━━━━━━━━━━━━\u001b[0m \u001b[32m1.2/1.2 MB\u001b[0m \u001b[31m58.1 MB/s\u001b[0m eta \u001b[36m0:00:00\u001b[0m\n",
            "\u001b[?25hRequirement already satisfied: seaborn in /usr/local/lib/python3.10/dist-packages (0.12.2)\n",
            "Collecting sentence_transformers\n",
            "  Downloading sentence-transformers-2.2.2.tar.gz (85 kB)\n",
            "\u001b[2K     \u001b[90m━━━━━━━━━━━━━━━━━━━━━━━━━━━━━━━━━━━━━━━━\u001b[0m \u001b[32m86.0/86.0 kB\u001b[0m \u001b[31m12.8 MB/s\u001b[0m eta \u001b[36m0:00:00\u001b[0m\n",
            "\u001b[?25h  Preparing metadata (setup.py) ... \u001b[?25l\u001b[?25hdone\n",
            "Requirement already satisfied: torch>=1.8 in /usr/local/lib/python3.10/dist-packages (from monai) (2.0.1+cu118)\n",
            "Requirement already satisfied: numpy>=1.17 in /usr/local/lib/python3.10/dist-packages (from monai) (1.22.4)\n",
            "Requirement already satisfied: pandas>=0.25 in /usr/local/lib/python3.10/dist-packages (from seaborn) (1.5.3)\n",
            "Requirement already satisfied: matplotlib!=3.6.1,>=3.1 in /usr/local/lib/python3.10/dist-packages (from seaborn) (3.7.1)\n",
            "Collecting transformers<5.0.0,>=4.6.0 (from sentence_transformers)\n",
            "  Downloading transformers-4.29.2-py3-none-any.whl (7.1 MB)\n",
            "\u001b[2K     \u001b[90m━━━━━━━━━━━━━━━━━━━━━━━━━━━━━━━━━━━━━━━━\u001b[0m \u001b[32m7.1/7.1 MB\u001b[0m \u001b[31m121.8 MB/s\u001b[0m eta \u001b[36m0:00:00\u001b[0m\n",
            "\u001b[?25hRequirement already satisfied: tqdm in /usr/local/lib/python3.10/dist-packages (from sentence_transformers) (4.65.0)\n",
            "Requirement already satisfied: torchvision in /usr/local/lib/python3.10/dist-packages (from sentence_transformers) (0.15.2+cu118)\n",
            "Requirement already satisfied: scikit-learn in /usr/local/lib/python3.10/dist-packages (from sentence_transformers) (1.2.2)\n",
            "Requirement already satisfied: scipy in /usr/local/lib/python3.10/dist-packages (from sentence_transformers) (1.10.1)\n",
            "Requirement already satisfied: nltk in /usr/local/lib/python3.10/dist-packages (from sentence_transformers) (3.8.1)\n",
            "Collecting sentencepiece (from sentence_transformers)\n",
            "  Downloading sentencepiece-0.1.99-cp310-cp310-manylinux_2_17_x86_64.manylinux2014_x86_64.whl (1.3 MB)\n",
            "\u001b[2K     \u001b[90m━━━━━━━━━━━━━━━━━━━━━━━━━━━━━━━━━━━━━━━━\u001b[0m \u001b[32m1.3/1.3 MB\u001b[0m \u001b[31m88.7 MB/s\u001b[0m eta \u001b[36m0:00:00\u001b[0m\n",
            "\u001b[?25hCollecting huggingface-hub>=0.4.0 (from sentence_transformers)\n",
            "  Downloading huggingface_hub-0.14.1-py3-none-any.whl (224 kB)\n",
            "\u001b[2K     \u001b[90m━━━━━━━━━━━━━━━━━━━━━━━━━━━━━━━━━━━━━━\u001b[0m \u001b[32m224.5/224.5 kB\u001b[0m \u001b[31m31.3 MB/s\u001b[0m eta \u001b[36m0:00:00\u001b[0m\n",
            "\u001b[?25hRequirement already satisfied: filelock in /usr/local/lib/python3.10/dist-packages (from huggingface-hub>=0.4.0->sentence_transformers) (3.12.0)\n",
            "Requirement already satisfied: fsspec in /usr/local/lib/python3.10/dist-packages (from huggingface-hub>=0.4.0->sentence_transformers) (2023.4.0)\n",
            "Requirement already satisfied: requests in /usr/local/lib/python3.10/dist-packages (from huggingface-hub>=0.4.0->sentence_transformers) (2.27.1)\n",
            "Requirement already satisfied: pyyaml>=5.1 in /usr/local/lib/python3.10/dist-packages (from huggingface-hub>=0.4.0->sentence_transformers) (6.0)\n",
            "Requirement already satisfied: typing-extensions>=3.7.4.3 in /usr/local/lib/python3.10/dist-packages (from huggingface-hub>=0.4.0->sentence_transformers) (4.5.0)\n",
            "Requirement already satisfied: packaging>=20.9 in /usr/local/lib/python3.10/dist-packages (from huggingface-hub>=0.4.0->sentence_transformers) (23.1)\n",
            "Requirement already satisfied: contourpy>=1.0.1 in /usr/local/lib/python3.10/dist-packages (from matplotlib!=3.6.1,>=3.1->seaborn) (1.0.7)\n",
            "Requirement already satisfied: cycler>=0.10 in /usr/local/lib/python3.10/dist-packages (from matplotlib!=3.6.1,>=3.1->seaborn) (0.11.0)\n",
            "Requirement already satisfied: fonttools>=4.22.0 in /usr/local/lib/python3.10/dist-packages (from matplotlib!=3.6.1,>=3.1->seaborn) (4.39.3)\n",
            "Requirement already satisfied: kiwisolver>=1.0.1 in /usr/local/lib/python3.10/dist-packages (from matplotlib!=3.6.1,>=3.1->seaborn) (1.4.4)\n",
            "Requirement already satisfied: pillow>=6.2.0 in /usr/local/lib/python3.10/dist-packages (from matplotlib!=3.6.1,>=3.1->seaborn) (8.4.0)\n",
            "Requirement already satisfied: pyparsing>=2.3.1 in /usr/local/lib/python3.10/dist-packages (from matplotlib!=3.6.1,>=3.1->seaborn) (3.0.9)\n",
            "Requirement already satisfied: python-dateutil>=2.7 in /usr/local/lib/python3.10/dist-packages (from matplotlib!=3.6.1,>=3.1->seaborn) (2.8.2)\n",
            "Requirement already satisfied: pytz>=2020.1 in /usr/local/lib/python3.10/dist-packages (from pandas>=0.25->seaborn) (2022.7.1)\n",
            "Requirement already satisfied: sympy in /usr/local/lib/python3.10/dist-packages (from torch>=1.8->monai) (1.11.1)\n",
            "Requirement already satisfied: networkx in /usr/local/lib/python3.10/dist-packages (from torch>=1.8->monai) (3.1)\n",
            "Requirement already satisfied: jinja2 in /usr/local/lib/python3.10/dist-packages (from torch>=1.8->monai) (3.1.2)\n",
            "Requirement already satisfied: triton==2.0.0 in /usr/local/lib/python3.10/dist-packages (from torch>=1.8->monai) (2.0.0)\n",
            "Requirement already satisfied: cmake in /usr/local/lib/python3.10/dist-packages (from triton==2.0.0->torch>=1.8->monai) (3.25.2)\n",
            "Requirement already satisfied: lit in /usr/local/lib/python3.10/dist-packages (from triton==2.0.0->torch>=1.8->monai) (16.0.5)\n",
            "Requirement already satisfied: regex!=2019.12.17 in /usr/local/lib/python3.10/dist-packages (from transformers<5.0.0,>=4.6.0->sentence_transformers) (2022.10.31)\n",
            "Collecting tokenizers!=0.11.3,<0.14,>=0.11.1 (from transformers<5.0.0,>=4.6.0->sentence_transformers)\n",
            "  Downloading tokenizers-0.13.3-cp310-cp310-manylinux_2_17_x86_64.manylinux2014_x86_64.whl (7.8 MB)\n",
            "\u001b[2K     \u001b[90m━━━━━━━━━━━━━━━━━━━━━━━━━━━━━━━━━━━━━━━━\u001b[0m \u001b[32m7.8/7.8 MB\u001b[0m \u001b[31m94.1 MB/s\u001b[0m eta \u001b[36m0:00:00\u001b[0m\n",
            "\u001b[?25hRequirement already satisfied: click in /usr/local/lib/python3.10/dist-packages (from nltk->sentence_transformers) (8.1.3)\n",
            "Requirement already satisfied: joblib in /usr/local/lib/python3.10/dist-packages (from nltk->sentence_transformers) (1.2.0)\n",
            "Requirement already satisfied: threadpoolctl>=2.0.0 in /usr/local/lib/python3.10/dist-packages (from scikit-learn->sentence_transformers) (3.1.0)\n",
            "Requirement already satisfied: six>=1.5 in /usr/local/lib/python3.10/dist-packages (from python-dateutil>=2.7->matplotlib!=3.6.1,>=3.1->seaborn) (1.16.0)\n",
            "Requirement already satisfied: MarkupSafe>=2.0 in /usr/local/lib/python3.10/dist-packages (from jinja2->torch>=1.8->monai) (2.1.2)\n",
            "Requirement already satisfied: urllib3<1.27,>=1.21.1 in /usr/local/lib/python3.10/dist-packages (from requests->huggingface-hub>=0.4.0->sentence_transformers) (1.26.15)\n",
            "Requirement already satisfied: certifi>=2017.4.17 in /usr/local/lib/python3.10/dist-packages (from requests->huggingface-hub>=0.4.0->sentence_transformers) (2022.12.7)\n",
            "Requirement already satisfied: charset-normalizer~=2.0.0 in /usr/local/lib/python3.10/dist-packages (from requests->huggingface-hub>=0.4.0->sentence_transformers) (2.0.12)\n",
            "Requirement already satisfied: idna<4,>=2.5 in /usr/local/lib/python3.10/dist-packages (from requests->huggingface-hub>=0.4.0->sentence_transformers) (3.4)\n",
            "Requirement already satisfied: mpmath>=0.19 in /usr/local/lib/python3.10/dist-packages (from sympy->torch>=1.8->monai) (1.3.0)\n",
            "Building wheels for collected packages: sentence_transformers\n",
            "  Building wheel for sentence_transformers (setup.py) ... \u001b[?25l\u001b[?25hdone\n",
            "  Created wheel for sentence_transformers: filename=sentence_transformers-2.2.2-py3-none-any.whl size=125926 sha256=d24ed5defb1c536e105be3f01b4636e82946147e62ba74ad8e9da3b75bf20405\n",
            "  Stored in directory: /root/.cache/pip/wheels/62/f2/10/1e606fd5f02395388f74e7462910fe851042f97238cbbd902f\n",
            "Successfully built sentence_transformers\n",
            "Installing collected packages: tokenizers, sentencepiece, huggingface-hub, transformers, sentence_transformers, monai\n",
            "Successfully installed huggingface-hub-0.14.1 monai-1.1.0 sentence_transformers-2.2.2 sentencepiece-0.1.99 tokenizers-0.13.3 transformers-4.29.2\n",
            "Cloning into 'stanford_project'...\n",
            "remote: Enumerating objects: 2391, done.\u001b[K\n",
            "remote: Counting objects: 100% (146/146), done.\u001b[K\n",
            "remote: Compressing objects: 100% (135/135), done.\u001b[K\n",
            "remote: Total 2391 (delta 101), reused 18 (delta 11), pack-reused 2245\u001b[K\n",
            "Receiving objects: 100% (2391/2391), 276.08 MiB | 15.52 MiB/s, done.\n",
            "Resolving deltas: 100% (1701/1701), done.\n"
          ]
        }
      ],
      "source": [
        "if COLAB_FLAG:\n",
        "  %pip install pydicom==2.1.2\n",
        "  %pip install monai seaborn sentence_transformers\n",
        "  !git clone -b dockerversion 'https://github.com/mille055/stanford_project.git'\n",
        "  \n",
        "\n",
        "    "
      ]
    },
    {
      "cell_type": "code",
      "execution_count": 4,
      "metadata": {
        "id": "pQECLOZTER78"
      },
      "outputs": [],
      "source": [
        "import torch\n",
        "import torch.nn as nn\n",
        "import torch.optim as optim\n",
        "import pandas as pd\n",
        "import numpy as np\n",
        "import torchvision\n",
        "import pydicom\n",
        "import pickle\n",
        "import glob\n",
        "import sklearn\n",
        "from sklearn.model_selection import train_test_split\n",
        "\n",
        "from sklearn.metrics import accuracy_score, confusion_matrix, classification_report, recall_score, ConfusionMatrixDisplay\n",
        "from sklearn.linear_model import LogisticRegression\n",
        "\n",
        "import seaborn as sns\n",
        "from datetime import datetime\n",
        "\n",
        "from sentence_transformers import SentenceTransformer\n",
        "\n",
        "from torch.optim import lr_scheduler\n",
        "import torch.backends.cudnn as cudnn\n",
        "\n",
        "import torchvision\n",
        "from torchvision import datasets, models, transforms\n",
        "from torch.utils.data import Dataset, DataLoader\n",
        "from torchvision.transforms import ToTensor\n",
        "import matplotlib.pyplot as plt\n",
        "import time\n",
        "import os\n",
        "import copy\n",
        "from pprint import pprint\n",
        "from fastai.basics import delegates\n",
        "from fastcore.parallel import parallel\n",
        "from fastcore.utils import gt\n",
        "from fastcore.foundation import L\n",
        "\n",
        "from pydicom.dataset import Dataset as DcmDataset\n",
        "from pydicom.tag import BaseTag as DcmTag\n",
        "from pydicom.multival import MultiValue as DcmMultiValue\n",
        "import sys\n",
        "import importlib\n",
        "import warnings\n",
        "from google.colab import drive\n",
        "warnings.filterwarnings(\"ignore\")"
      ]
    },
    {
      "cell_type": "code",
      "execution_count": 5,
      "metadata": {
        "colab": {
          "base_uri": "https://localhost:8080/"
        },
        "id": "Z99eSWdLER79",
        "outputId": "b23559c8-148f-41d7-d27a-06297851a047"
      },
      "outputs": [
        {
          "output_type": "stream",
          "name": "stdout",
          "text": [
            "Mounted at /content/gdrive\n"
          ]
        }
      ],
      "source": [
        "#local imports\n",
        "if COLAB_FLAG:\n",
        "    sys.path.append('/content/stanford_project/app/scripts/')\n",
        "    train_datafile = '/content/stanford_project/app/data/trainfiles.csv'\n",
        "    val_datafile = '/content/stanford_project/app/data/valfiles.csv'\n",
        "    test_datafile = '/content/stanford_project/app/data/testfiles.csv'\n",
        "    \n",
        "    drive.mount('/content/gdrive')\n",
        "\n",
        "else: # running locally\n",
        "    sys.path.append('/Users/cmm/Documents/GitHub/new/stanford_project/app/scripts/')\n",
        "    #sys.path.append('/workspaces/stanford_project/app/scripts/')\n",
        "    train_datafile = '../data/trainfiles.csv'\n",
        "    val_datafile = '../data/valfiles.csv'\n",
        "    test_datafile = '../data/testfiles.csv'\n",
        "\n",
        "\n",
        "### local imports ###\n",
        "from config import file_dict, feats, feats_to_keep, column_lists, RF_parameters, classes, model_paths\n",
        "from config import abd_label_dict, val_list, train_val_split_percent, random_seed, data_transforms\n",
        "from config import sentence_encoder, series_description_column\n",
        "from utils import *\n",
        "\n",
        "from cnn.cnn_dataset import ImgDataset\n",
        "from cnn.cnn_inference import image_to_tensor, pixel_inference, test_pix_model, load_pixel_model, visualize_results\n",
        "from cnn.cnn_model import *\n",
        "from cnn.cnn_training import *\n",
        "from cnn.cnn_data_loaders import get_data_loaders, data_transforms, data_transforms2\n",
        "\n",
        "from model_container import ModelContainer\n",
        "\n"
      ]
    },
    {
      "cell_type": "code",
      "execution_count": null,
      "metadata": {
        "id": "-fMCfj81ER7-"
      },
      "outputs": [],
      "source": [
        "\n",
        "\n",
        "train_df, val_df, test_df = create_datasets(train_datafile, val_datafile, test_datafile, '/volumes/cm7/Abdominal_MRI_dataset_split/', '/content/gdrive/MyDrive/WW_MRI_abd2/split/' )\n",
        "\n"
      ]
    },
    {
      "cell_type": "code",
      "source": [
        "train_df = pd.read_pickle('/content/gdrive/MyDrive/train_df.pkl')\n",
        "val_df = pd.read_pickle('/content/gdrive/MyDrive/val_df.pkl')\n",
        "test_df = pd.read_pickle('/content/gdrive/MyDrive/test_df.pkl')"
      ],
      "metadata": {
        "id": "hl1NsIagxzrb"
      },
      "execution_count": 6,
      "outputs": []
    },
    {
      "cell_type": "code",
      "source": [
        "sorted(val_df.label.unique())"
      ],
      "metadata": {
        "colab": {
          "base_uri": "https://localhost:8080/"
        },
        "id": "7UZQJEw8MGjB",
        "outputId": "9708385c-8c6a-43ac-8723-4aa645132b20"
      },
      "execution_count": 7,
      "outputs": [
        {
          "output_type": "execute_result",
          "data": {
            "text/plain": [
              "[0, 2, 6, 7, 8, 9, 11, 12, 13, 14, 16, 17, 18, 19, 23, 25]"
            ]
          },
          "metadata": {},
          "execution_count": 7
        }
      ]
    },
    {
      "cell_type": "code",
      "execution_count": 8,
      "metadata": {
        "id": "_CK2PGiTER7_"
      },
      "outputs": [],
      "source": [
        "# Get the data loaders\n",
        "batch_size = 16\n",
        "train_loader, val_loader, test_loader, dataset_sizes = get_data_loaders(train_df, val_df, test_df, batch_size)\n",
        "train_loader2, val_loader2, test_loader2, dataset_sizes2 = get_data_loaders(train_df, val_df, test_df, batch_size, data_transforms=data_transforms2)\n",
        "dataloaders = {'train': train_loader, 'val': val_loader, 'test': test_loader}\n",
        "dataloaders2 = {'train': train_loader2, 'val': val_loader2, 'test': test_loader2}"
      ]
    },
    {
      "cell_type": "code",
      "source": [
        "# Different combinations to evaluate\n",
        "models = [CustomResNet50, CustomResNet50b, CustomDenseNet]\n",
        "loss_funcs = [nn.CrossEntropyLoss, FocalLoss]\n",
        "loaders = ['dataloaders', 'dataloaders2']\n",
        "loaders_dict = {'dataloaders': dataloaders, 'dataloaders2': dataloaders2}\n",
        "optimizers = ['SGD', 'Adam']\n",
        "optim_dict = {\n",
        "    'SGD': {\n",
        "        'class': torch.optim.SGD,\n",
        "        'params': {'lr': 0.001, 'momentum': 0.9}\n",
        "    },\n",
        "    'Adam': {\n",
        "        'class': torch.optim.Adam,\n",
        "        'params': {'lr': 0.001, 'betas': (0.9, 0.999)}\n",
        "    }\n",
        "}\n"
      ],
      "metadata": {
        "id": "LR9U7i16fhjg"
      },
      "execution_count": 9,
      "outputs": []
    },
    {
      "cell_type": "code",
      "execution_count": null,
      "metadata": {
        "id": "spQzGoBgER7_",
        "colab": {
          "base_uri": "https://localhost:8080/"
        },
        "outputId": "2a5f7d9e-0585-4a9f-dfe0-9f599f43ce7f"
      },
      "outputs": [
        {
          "output_type": "stream",
          "name": "stdout",
          "text": [
            "\n",
            "Training with CustomResNet50, {'train': <torch.utils.data.dataloader.DataLoader object at 0x7f1661bfe650>, 'val': <torch.utils.data.dataloader.DataLoader object at 0x7f166a65aaa0>, 'test': <torch.utils.data.dataloader.DataLoader object at 0x7f166a65b2b0>}, SGD, CrossEntropyLoss\n"
          ]
        },
        {
          "output_type": "stream",
          "name": "stderr",
          "text": [
            "Downloading: \"https://download.pytorch.org/models/resnet50-0676ba61.pth\" to /root/.cache/torch/hub/checkpoints/resnet50-0676ba61.pth\n",
            "100%|██████████| 97.8M/97.8M [00:00<00:00, 369MB/s]\n"
          ]
        },
        {
          "output_type": "stream",
          "name": "stdout",
          "text": [
            "Epoch 0/14\n",
            "----------\n"
          ]
        }
      ],
      "source": [
        "# perform several training runs to compare accuracy on the validation dataset\n",
        "best_model = None\n",
        "best_accuracy = -1\n",
        "\n",
        "for model_class in models:\n",
        "  for loader in loaders:\n",
        "        for opt in optimizers:\n",
        "            for loss_func_class in loss_funcs:\n",
        "                print(f\"\\nTraining with {model_class.__name__}, {loaders_dict[loader]}, {opt}, {loss_func_class.__name__}\")\n",
        "\n",
        "                # Instantiate the custom model\n",
        "                num_classes = len(classes)\n",
        "                model = model_class(num_classes)\n",
        "                model = model.to(device)  # Move the model to the appropriate device\n",
        "\n",
        "                # Define loss function \n",
        "                criterion = loss_func_class()\n",
        "               \n",
        "                # Instantiate the selected optimizer with its parameters\n",
        "                opt_class = optim_dict[opt]['class']\n",
        "                opt_params = optim_dict[opt]['params']\n",
        "                optimizer = opt_class(model.parameters(), **opt_params)\n",
        "               \n",
        "                #optimizer = opt_class(model.parameters(), lr=0.001, momentum=0.9)\n",
        "\n",
        "                # Decay LR by a factor of 0.1 every 7 epochs\n",
        "                exp_lr_scheduler = lr_scheduler.StepLR(optimizer, step_size=7, gamma=0.1)\n",
        "\n",
        "                # Select the dataloader\n",
        "                dataloaders = loaders_dict[loader]\n",
        "\n",
        "                # Train the model\n",
        "                trained_model, best_val_accuracy, history = train_cnn_model(model, dataloaders, criterion, optimizer, exp_lr_scheduler, num_epochs=15)\n",
        "\n",
        "                # Print the history data\n",
        "                print(\"Training loss history:\", history['train_loss'])\n",
        "                print(\"Validation loss history:\", history['val_loss'])\n",
        "                print(\"Training accuracy history:\", history['train_acc'])\n",
        "                print(\"Validation accuracy history:\", history['val_acc'])\n",
        "\n",
        "\n",
        "                # Plot training curves\n",
        "                combination_name = f\"{model_class.__name__}_{loaders_dict[loader]}_{opt}_{loss_func_class.__name__}\"\n",
        "                plot_training_curves(history, combination_name)\n",
        "\n",
        "                if best_val_accuracy > best_accuracy:\n",
        "                  best_model = trained_model\n",
        "                  best_accuracy = best_val_accuracy\n",
        "               "
      ]
    },
    {
      "cell_type": "code",
      "source": [],
      "metadata": {
        "id": "5bCisRpSgEng"
      },
      "execution_count": null,
      "outputs": []
    },
    {
      "cell_type": "code",
      "source": [
        "def display_and_save_results2(y_pred, y_true, classes=classes, fn='', saveflag = True):\n",
        "   \n",
        "\n",
        "    classes_raw_list = np.unique(np.concatenate((y_true, y_pred)))\n",
        "    print(classes_raw_list)\n",
        "    classes_list = [classes[x] for x in classes_raw_list]\n",
        "    print(classes_list)\n",
        "    y_true = [classes[x] for x in y_true]\n",
        "    y_pred = [classes[x] for x in y_pred]\n",
        "    # Generate a confusion matrix based on the true labels and predicted labels\n",
        "    cm = confusion_matrix(y_true = y_true, y_pred = y_pred, labels=classes_list)\n",
        "  \n",
        "    #mask = np.all(cm == 0, axis=1)\n",
        "\n",
        "    class_text_labels = np.array([abd_label_dict[str(x)]['short'] for x in classes_list])\n",
        "    #class_text_labels = class_text_labels[~mask]\n",
        "\n",
        "     # Generate a classification report based on the true labels and predicted labels\n",
        "    print(classification_report(y_true, y_pred))\n",
        "\n",
        "    \n",
        "    #cm = cm[~mask]\n",
        "    # Create a ConfusionMatrixDisplay object with the correct labels\n",
        "    cm_display = ConfusionMatrixDisplay(cm, display_labels=class_text_labels).plot(xticks_rotation = 'vertical', cmap='Blues')\n",
        "    plt.figure(figsize=(25, 25))\n",
        "    plt.tight_layout()\n",
        "    #ConfusionMatrixDisplay(cm, display_labels=class_text_labels).plot(xticks_rotation = 'vertical', cmap='Blues')\n",
        "    if saveflag:\n",
        "        plt.savefig(\"/content/FigCM_\"+fn+datetime.today().strftime('%Y%m%d')+\".tif\",dpi=300, bbox_inches = 'tight')     \n",
        "\n",
        "    return cm      \n",
        "\n"
      ],
      "metadata": {
        "id": "13OlrUHg5aj9"
      },
      "execution_count": null,
      "outputs": []
    },
    {
      "cell_type": "code",
      "source": [
        "# Evaluate the model on the val dataset\n",
        "model = best_model\n",
        "\n",
        "model.eval()\n",
        "val_predictions = []\n",
        "val_labels = []\n",
        "\n",
        "for inputs, labels in val_loader:\n",
        "    inputs = inputs.to(device)\n",
        "    labels = labels.to(device)\n",
        "\n",
        "    with torch.no_grad(): # No need to calculate gradients when doing inference\n",
        "        outputs = model(inputs)\n",
        "        _, predicted = torch.max(outputs, 1) # Get class from network's prediction\n",
        "        val_predictions.append(predicted.cpu().numpy())\n",
        "        val_labels.append(labels.cpu().numpy())\n",
        "val_predictions = np.concatenate(val_predictions, axis=0)\n",
        "val_labels = np.concatenate(val_labels, axis=0)\n",
        "\n",
        "#print(val_predictions)\n",
        "#print(val_labels)\n",
        "cm = display_and_save_results2(val_predictions, val_labels, classes, fn='DenseNetFL', saveflag=True)\n",
        "\n",
        "# Save the trained model if needed\n",
        "save_filename = f\"cnn_model_{combination_name}_{datetime.now().strftime('%Y%m%d')}.pth\"\n",
        "torch.save(trained_model.state_dict(), '/content/gdrive/MyDrive/model0530a.pth')\n",
        "\n",
        "\n",
        "\n",
        "# model.eval()\n",
        "# val_predictions = []\n",
        "# test_labels = []\n",
        "\n",
        "# for inputs, labels in test_loader:\n",
        "#     inputs = inputs.to(device)\n",
        "#     labels = labels.to(device)\n",
        "#     print(labels)\n",
        "#     with torch.no_grad(): # No need to calculate gradients when doing inference\n",
        "#         outputs = model(inputs)\n",
        "#         _, predicted = torch.max(outputs, 1) # Get class from network's prediction\n",
        "#         test_predictions.append(predicted.cpu().numpy())\n",
        "#         test_labels.append(labels.cpu().numpy())\n",
        "\n",
        "# print (test_predictions)\n",
        "# print(test_labels)\n",
        "\n",
        "\n",
        "# test_predictions = np.concatenate(test_predictions, axis=0)\n",
        "# test_labels = np.concatenate(test_labels, axis=0)\n",
        "\n",
        "\n",
        "# accuracy = np.sum(test_predictions==test_labels)/len(test_labels)\n",
        "# print('Accuracy on the test dataset is ', np.round(accuracy, 3))\n",
        "# #results = make_results_df(preds, true, test)\n",
        "\n",
        "# # Save the trained model if needed\n",
        "# save_filename = f\"cnn_model_{combination_name}_{datetime.now().strftime('%Y%m%d')}.pth\"\n",
        "# torch.save(trained_model.state_dict(), save_filename)\n"
      ],
      "metadata": {
        "colab": {
          "base_uri": "https://localhost:8080/",
          "height": 1000
        },
        "id": "pxbvZqmHhck4",
        "outputId": "0470aecf-fd64-429c-a19f-a9db22a77a70"
      },
      "execution_count": null,
      "outputs": [
        {
          "output_type": "stream",
          "name": "stdout",
          "text": [
            "[ 0  1  2  3  4  5  7  8  9 10 12 13 14 15 17 18]\n",
            "[0, 2, 6, 7, 8, 9, 11, 12, 13, 14, 16, 17, 18, 19, 23, 25]\n",
            "              precision    recall  f1-score   support\n",
            "\n",
            "           0       0.81      1.00      0.89        17\n",
            "           2       0.90      0.92      0.91        49\n",
            "           6       0.88      1.00      0.93        14\n",
            "           7       0.95      1.00      0.97        18\n",
            "           8       0.97      0.91      0.94        35\n",
            "           9       0.92      0.97      0.94        34\n",
            "          11       1.00      0.95      0.97        20\n",
            "          12       0.00      0.00      0.00        12\n",
            "          13       1.00      0.33      0.50         3\n",
            "          14       0.95      0.95      0.95        19\n",
            "          16       0.50      0.75      0.60        20\n",
            "          17       1.00      0.94      0.97        17\n",
            "          18       1.00      0.91      0.95        22\n",
            "          19       1.00      0.95      0.97        19\n",
            "          23       0.60      0.47      0.53        19\n",
            "          25       0.85      0.97      0.91        36\n",
            "\n",
            "    accuracy                           0.88       354\n",
            "   macro avg       0.83      0.81      0.81       354\n",
            "weighted avg       0.86      0.88      0.86       354\n",
            "\n"
          ]
        },
        {
          "output_type": "error",
          "ename": "RuntimeError",
          "evalue": "ignored",
          "traceback": [
            "\u001b[0;31m---------------------------------------------------------------------------\u001b[0m",
            "\u001b[0;31mRuntimeError\u001b[0m                              Traceback (most recent call last)",
            "\u001b[0;32m<ipython-input-12-eadb63de8391>\u001b[0m in \u001b[0;36m<cell line: 26>\u001b[0;34m()\u001b[0m\n\u001b[1;32m     24\u001b[0m \u001b[0;31m# Save the trained model if needed\u001b[0m\u001b[0;34m\u001b[0m\u001b[0;34m\u001b[0m\u001b[0m\n\u001b[1;32m     25\u001b[0m \u001b[0msave_filename\u001b[0m \u001b[0;34m=\u001b[0m \u001b[0;34mf\"cnn_model_{combination_name}_{datetime.now().strftime('%Y%m%d')}.pth\"\u001b[0m\u001b[0;34m\u001b[0m\u001b[0;34m\u001b[0m\u001b[0m\n\u001b[0;32m---> 26\u001b[0;31m \u001b[0mtorch\u001b[0m\u001b[0;34m.\u001b[0m\u001b[0msave\u001b[0m\u001b[0;34m(\u001b[0m\u001b[0mtrained_model\u001b[0m\u001b[0;34m.\u001b[0m\u001b[0mstate_dict\u001b[0m\u001b[0;34m(\u001b[0m\u001b[0;34m)\u001b[0m\u001b[0;34m,\u001b[0m \u001b[0msave_filename\u001b[0m\u001b[0;34m)\u001b[0m\u001b[0;34m\u001b[0m\u001b[0;34m\u001b[0m\u001b[0m\n\u001b[0m\u001b[1;32m     27\u001b[0m \u001b[0;34m\u001b[0m\u001b[0m\n\u001b[1;32m     28\u001b[0m \u001b[0;34m\u001b[0m\u001b[0m\n",
            "\u001b[0;32m/usr/local/lib/python3.10/dist-packages/torch/serialization.py\u001b[0m in \u001b[0;36msave\u001b[0;34m(obj, f, pickle_module, pickle_protocol, _use_new_zipfile_serialization)\u001b[0m\n\u001b[1;32m    438\u001b[0m \u001b[0;34m\u001b[0m\u001b[0m\n\u001b[1;32m    439\u001b[0m     \u001b[0;32mif\u001b[0m \u001b[0m_use_new_zipfile_serialization\u001b[0m\u001b[0;34m:\u001b[0m\u001b[0;34m\u001b[0m\u001b[0;34m\u001b[0m\u001b[0m\n\u001b[0;32m--> 440\u001b[0;31m         \u001b[0;32mwith\u001b[0m \u001b[0m_open_zipfile_writer\u001b[0m\u001b[0;34m(\u001b[0m\u001b[0mf\u001b[0m\u001b[0;34m)\u001b[0m \u001b[0;32mas\u001b[0m \u001b[0mopened_zipfile\u001b[0m\u001b[0;34m:\u001b[0m\u001b[0;34m\u001b[0m\u001b[0;34m\u001b[0m\u001b[0m\n\u001b[0m\u001b[1;32m    441\u001b[0m             \u001b[0m_save\u001b[0m\u001b[0;34m(\u001b[0m\u001b[0mobj\u001b[0m\u001b[0;34m,\u001b[0m \u001b[0mopened_zipfile\u001b[0m\u001b[0;34m,\u001b[0m \u001b[0mpickle_module\u001b[0m\u001b[0;34m,\u001b[0m \u001b[0mpickle_protocol\u001b[0m\u001b[0;34m)\u001b[0m\u001b[0;34m\u001b[0m\u001b[0;34m\u001b[0m\u001b[0m\n\u001b[1;32m    442\u001b[0m             \u001b[0;32mreturn\u001b[0m\u001b[0;34m\u001b[0m\u001b[0;34m\u001b[0m\u001b[0m\n",
            "\u001b[0;32m/usr/local/lib/python3.10/dist-packages/torch/serialization.py\u001b[0m in \u001b[0;36m_open_zipfile_writer\u001b[0;34m(name_or_buffer)\u001b[0m\n\u001b[1;32m    313\u001b[0m     \u001b[0;32melse\u001b[0m\u001b[0;34m:\u001b[0m\u001b[0;34m\u001b[0m\u001b[0;34m\u001b[0m\u001b[0m\n\u001b[1;32m    314\u001b[0m         \u001b[0mcontainer\u001b[0m \u001b[0;34m=\u001b[0m \u001b[0m_open_zipfile_writer_buffer\u001b[0m\u001b[0;34m\u001b[0m\u001b[0;34m\u001b[0m\u001b[0m\n\u001b[0;32m--> 315\u001b[0;31m     \u001b[0;32mreturn\u001b[0m \u001b[0mcontainer\u001b[0m\u001b[0;34m(\u001b[0m\u001b[0mname_or_buffer\u001b[0m\u001b[0;34m)\u001b[0m\u001b[0;34m\u001b[0m\u001b[0;34m\u001b[0m\u001b[0m\n\u001b[0m\u001b[1;32m    316\u001b[0m \u001b[0;34m\u001b[0m\u001b[0m\n\u001b[1;32m    317\u001b[0m \u001b[0;34m\u001b[0m\u001b[0m\n",
            "\u001b[0;32m/usr/local/lib/python3.10/dist-packages/torch/serialization.py\u001b[0m in \u001b[0;36m__init__\u001b[0;34m(self, name)\u001b[0m\n\u001b[1;32m    286\u001b[0m \u001b[0;32mclass\u001b[0m \u001b[0m_open_zipfile_writer_file\u001b[0m\u001b[0;34m(\u001b[0m\u001b[0m_opener\u001b[0m\u001b[0;34m)\u001b[0m\u001b[0;34m:\u001b[0m\u001b[0;34m\u001b[0m\u001b[0;34m\u001b[0m\u001b[0m\n\u001b[1;32m    287\u001b[0m     \u001b[0;32mdef\u001b[0m \u001b[0m__init__\u001b[0m\u001b[0;34m(\u001b[0m\u001b[0mself\u001b[0m\u001b[0;34m,\u001b[0m \u001b[0mname\u001b[0m\u001b[0;34m)\u001b[0m \u001b[0;34m->\u001b[0m \u001b[0;32mNone\u001b[0m\u001b[0;34m:\u001b[0m\u001b[0;34m\u001b[0m\u001b[0;34m\u001b[0m\u001b[0m\n\u001b[0;32m--> 288\u001b[0;31m         \u001b[0msuper\u001b[0m\u001b[0;34m(\u001b[0m\u001b[0;34m)\u001b[0m\u001b[0;34m.\u001b[0m\u001b[0m__init__\u001b[0m\u001b[0;34m(\u001b[0m\u001b[0mtorch\u001b[0m\u001b[0;34m.\u001b[0m\u001b[0m_C\u001b[0m\u001b[0;34m.\u001b[0m\u001b[0mPyTorchFileWriter\u001b[0m\u001b[0;34m(\u001b[0m\u001b[0mstr\u001b[0m\u001b[0;34m(\u001b[0m\u001b[0mname\u001b[0m\u001b[0;34m)\u001b[0m\u001b[0;34m)\u001b[0m\u001b[0;34m)\u001b[0m\u001b[0;34m\u001b[0m\u001b[0;34m\u001b[0m\u001b[0m\n\u001b[0m\u001b[1;32m    289\u001b[0m \u001b[0;34m\u001b[0m\u001b[0m\n\u001b[1;32m    290\u001b[0m     \u001b[0;32mdef\u001b[0m \u001b[0m__exit__\u001b[0m\u001b[0;34m(\u001b[0m\u001b[0mself\u001b[0m\u001b[0;34m,\u001b[0m \u001b[0;34m*\u001b[0m\u001b[0margs\u001b[0m\u001b[0;34m)\u001b[0m \u001b[0;34m->\u001b[0m \u001b[0;32mNone\u001b[0m\u001b[0;34m:\u001b[0m\u001b[0;34m\u001b[0m\u001b[0;34m\u001b[0m\u001b[0m\n",
            "\u001b[0;31mRuntimeError\u001b[0m: File cnn_model_CustomDenseNet_{'train': <torch.utils.data.dataloader.DataLoader object at 0x7f2a040f06a0>, 'val': <torch.utils.data.dataloader.DataLoader object at 0x7f2a040f0eb0>, 'test': <torch.utils.data.dataloader.DataLoader object at 0x7f2a040f1600>}_Adam_FocalLoss_20230529.pth cannot be opened."
          ]
        },
        {
          "output_type": "display_data",
          "data": {
            "text/plain": [
              "<Figure size 640x480 with 2 Axes>"
            ],
            "image/png": "[encoded data removed]"
          },
          "metadata": {}
        },
        {
          "output_type": "display_data",
          "data": {
            "text/plain": [
              "<Figure size 2500x2500 with 0 Axes>"
            ]
          },
          "metadata": {}
        }
      ]
    },
    {
      "cell_type": "code",
      "source": [
        "torch.save(trained_model.state_dict(), '/content/model0529a.pth')\n"
      ],
      "metadata": {
        "id": "dHQJq8SKrbyi"
      },
      "execution_count": null,
      "outputs": []
    },
    {
      "cell_type": "code",
      "source": [
        "!pip install transformers\n",
        "from transformers import DeiTFeatureExtractor, DeiTForImageClassification\n",
        "\n"
      ],
      "metadata": {
        "id": "qJo7yjUEPMue",
        "colab": {
          "base_uri": "https://localhost:8080/"
        },
        "outputId": "7aa88b89-3498-4556-cd72-c4f6f7149c58"
      },
      "execution_count": null,
      "outputs": [
        {
          "output_type": "stream",
          "name": "stdout",
          "text": [
            "Looking in indexes: https://pypi.org/simple, https://us-python.pkg.dev/colab-wheels/public/simple/\n",
            "Requirement already satisfied: transformers in /usr/local/lib/python3.10/dist-packages (4.29.2)\n",
            "Requirement already satisfied: filelock in /usr/local/lib/python3.10/dist-packages (from transformers) (3.12.0)\n",
            "Requirement already satisfied: huggingface-hub<1.0,>=0.14.1 in /usr/local/lib/python3.10/dist-packages (from transformers) (0.14.1)\n",
            "Requirement already satisfied: numpy>=1.17 in /usr/local/lib/python3.10/dist-packages (from transformers) (1.22.4)\n",
            "Requirement already satisfied: packaging>=20.0 in /usr/local/lib/python3.10/dist-packages (from transformers) (23.1)\n",
            "Requirement already satisfied: pyyaml>=5.1 in /usr/local/lib/python3.10/dist-packages (from transformers) (6.0)\n",
            "Requirement already satisfied: regex!=2019.12.17 in /usr/local/lib/python3.10/dist-packages (from transformers) (2022.10.31)\n",
            "Requirement already satisfied: requests in /usr/local/lib/python3.10/dist-packages (from transformers) (2.27.1)\n",
            "Requirement already satisfied: tokenizers!=0.11.3,<0.14,>=0.11.1 in /usr/local/lib/python3.10/dist-packages (from transformers) (0.13.3)\n",
            "Requirement already satisfied: tqdm>=4.27 in /usr/local/lib/python3.10/dist-packages (from transformers) (4.65.0)\n",
            "Requirement already satisfied: fsspec in /usr/local/lib/python3.10/dist-packages (from huggingface-hub<1.0,>=0.14.1->transformers) (2023.4.0)\n",
            "Requirement already satisfied: typing-extensions>=3.7.4.3 in /usr/local/lib/python3.10/dist-packages (from huggingface-hub<1.0,>=0.14.1->transformers) (4.5.0)\n",
            "Requirement already satisfied: urllib3<1.27,>=1.21.1 in /usr/local/lib/python3.10/dist-packages (from requests->transformers) (1.26.15)\n",
            "Requirement already satisfied: certifi>=2017.4.17 in /usr/local/lib/python3.10/dist-packages (from requests->transformers) (2022.12.7)\n",
            "Requirement already satisfied: charset-normalizer~=2.0.0 in /usr/local/lib/python3.10/dist-packages (from requests->transformers) (2.0.12)\n",
            "Requirement already satisfied: idna<4,>=2.5 in /usr/local/lib/python3.10/dist-packages (from requests->transformers) (3.4)\n"
          ]
        }
      ]
    },
    {
      "cell_type": "code",
      "source": [],
      "metadata": {
        "id": "7JOuPkBSsMil"
      },
      "execution_count": null,
      "outputs": []
    },
    {
      "cell_type": "code",
      "source": [
        "deit_model = DeiTForImageClassification.from_pretrained('facebook/deit-base-distilled-patch16-224')\n",
        "feature_extractor = DeiTFeatureExtractor.from_pretrained('facebook/deit-base-distilled-patch16-224')\n",
        "batch_size = 16\n",
        "\n",
        "optimizer = optim.Adam(deit_model.parameters(), lr=0.001, betas=(0.9,0.99))\n",
        "criterion = FocalLoss()\n",
        "\n",
        "\n",
        "def normalize_image(image):\n",
        "    min_val = image.min()\n",
        "    max_val = image.max()\n",
        "    if min_val != max_val:\n",
        "        image = (image - min_val) / (max_val - min_val)\n",
        "    else:\n",
        "        # Avoid zero division and return a zero image.\n",
        "        image = torch.zeros_like(image)\n",
        "    return image\n",
        "\n",
        "class ImgDataset_deit(Dataset):\n",
        "    def __init__(self, df, transform=None):\n",
        "        self.data_df = df\n",
        "        self.datafileslist = df.fname\n",
        "        self.labels = df.label\n",
        "        self.transform = transform\n",
        "        \n",
        "        \n",
        "    def __len__(self):\n",
        "        return self.data_df.shape[0]\n",
        "    \n",
        "    def __getitem__(self, idx):\n",
        "      source = file_dict['img_data_dir_local']\n",
        "      dest = file_dict['img_data_dir_colab']\n",
        "\n",
        "      img_file = self.data_df.fname[idx]\n",
        "      ds = pydicom.dcmread(img_file)\n",
        "      img = ds.pixel_array.astype(np.float32)  # Convert to float\n",
        "      img = (img - np.min(img)) / (np.max(img) - np.min(img))  # Normalize here\n",
        "      img = torch.from_numpy(img)  # Convert to torch tensor\n",
        "      img = img.repeat(3, 1, 1)  # Convert to 3-channel image\n",
        "\n",
        "      if self.transform:\n",
        "        img = self.transform(img)\n",
        "\n",
        "      img = img[np.newaxis]\n",
        "      # Apply feature extractor directly here\n",
        "      img = feature_extractor(images=img, return_tensors=\"pt\")[\"pixel_values\"]\n",
        "    \n",
        "\n",
        "      labl = self.data_df.label[idx]\n",
        "      adjusted_label = classes.index(labl)\n",
        "      y = torch.tensor(adjusted_label, dtype=torch.long) \n",
        "\n",
        "      return (img, y)\n",
        "\n",
        "\n",
        "\n",
        "deit_transforms = {\n",
        "    'train': transforms.Compose([\n",
        "      transforms.ToPILImage(),\n",
        "      transforms.Resize((224, 224)),\n",
        "      transforms.Grayscale(num_output_channels=3),\n",
        "      #transforms.Lambda(normalize_image),  # min-max normalization\n",
        "      transforms.ToTensor()\n",
        "]),\n",
        "    'val': transforms.Compose([\n",
        "      transforms.ToPILImage(),\n",
        "      transforms.Resize((224, 224)),\n",
        "      transforms.Grayscale(num_output_channels=3),\n",
        "      #transforms.Lambda(normalize_image),  # min-max normalization\n",
        "      transforms.ToTensor()\n",
        "    ]),\n",
        "\n",
        "    'test': transforms.Compose([\n",
        "      transforms.ToPILImage(),\n",
        "      transforms.Resize((224, 224)),\n",
        "      transforms.Grayscale(num_output_channels=3),\n",
        "      #transforms.Lambda(normalize_image),  # min-max normalization\n",
        "      transforms.ToTensor()\n",
        "    ])\n",
        "}\n",
        "\n",
        "def get_data_loaders_deit(train, val, test, batch_size, data_transforms = deit_transforms, shuffle=True, num_workers=0):\n",
        "    # Create instances of your custom dataset\n",
        "    train_imgdata = ImgDataset_deit(train, data_transforms['train'])\n",
        "    val_imgdata = ImgDataset_deit(val, data_transforms['val'])\n",
        "    test_imgdata = ImgDataset_deit(test, data_transforms['test'])\n",
        "\n",
        "    # Create data loaders for the training, validation, and test datasets\n",
        "    train_loader = DataLoader(train_imgdata, batch_size=batch_size, shuffle=shuffle, num_workers=num_workers)\n",
        "    val_loader = DataLoader(val_imgdata, batch_size=batch_size, shuffle=shuffle, num_workers=num_workers)\n",
        "    test_loader = DataLoader(test_imgdata, batch_size=batch_size, shuffle=False, num_workers=num_workers)\n",
        "\n",
        "    dataset_sizes = {'train': len(train_imgdata), 'val': len(val_imgdata)}\n",
        "\n",
        "    return train_loader, val_loader, test_loader, dataset_sizes\n",
        "\n",
        "\n",
        "\n",
        "\n",
        "\n",
        "\n",
        "\n",
        "\n",
        "train_loader_deit, val_loader_deit, test_loader_deit, dataset_sizes_deit = get_data_loaders(train_df, val_df, test_df, batch_size, data_transforms=deit_transforms)\n",
        "\n"
      ],
      "metadata": {
        "colab": {
          "base_uri": "https://localhost:8080/"
        },
        "id": "XRrYPFQH2c5p",
        "outputId": "a226dc0e-2a67-407a-b3c6-d7aaa47f06d7"
      },
      "execution_count": null,
      "outputs": [
        {
          "output_type": "stream",
          "name": "stderr",
          "text": [
            "Some weights of the model checkpoint at facebook/deit-base-distilled-patch16-224 were not used when initializing DeiTForImageClassification: ['distillation_classifier.bias', 'cls_classifier.bias', 'cls_classifier.weight', 'distillation_classifier.weight']\n",
            "- This IS expected if you are initializing DeiTForImageClassification from the checkpoint of a model trained on another task or with another architecture (e.g. initializing a BertForSequenceClassification model from a BertForPreTraining model).\n",
            "- This IS NOT expected if you are initializing DeiTForImageClassification from the checkpoint of a model that you expect to be exactly identical (initializing a BertForSequenceClassification model from a BertForSequenceClassification model).\n",
            "Some weights of DeiTForImageClassification were not initialized from the model checkpoint at facebook/deit-base-distilled-patch16-224 and are newly initialized: ['classifier.bias', 'classifier.weight']\n",
            "You should probably TRAIN this model on a down-stream task to be able to use it for predictions and inference.\n"
          ]
        }
      ]
    },
    {
      "cell_type": "code",
      "source": [
        "def calc_accuracy(outputs, labels):\n",
        "    _, preds = torch.max(outputs, 1)\n",
        "    return torch.sum(preds == labels.data)\n"
      ],
      "metadata": {
        "id": "VPXzk97KhaXx"
      },
      "execution_count": null,
      "outputs": []
    },
    {
      "cell_type": "code",
      "source": [
        "def train_deit_model(model, dataloaders, criterion, optimizer, num_epochs=25):\n",
        "    device = torch.device(\"cuda:0\" if torch.cuda.is_available() else \"cpu\")\n",
        "\n",
        "    val_acc_history = []\n",
        "    train_acc_history = []\n",
        "    train_loss_history = []\n",
        "    val_loss_history = []\n",
        "\n",
        "    best_model_wts = copy.deepcopy(model.state_dict())\n",
        "    best_acc = 0.0\n",
        "\n",
        "    for epoch in range(num_epochs):\n",
        "        print('Epoch {}/{}'.format(epoch, num_epochs - 1))\n",
        "        print('-' * 10)\n",
        "\n",
        "        for phase in ['train', 'val']:\n",
        "            if phase == 'train':\n",
        "                model.train() \n",
        "            else:\n",
        "                model.eval()  \n",
        "\n",
        "            running_loss = 0.0\n",
        "            running_corrects = 0\n",
        "\n",
        "            for inputs, labels in dataloaders[phase]:\n",
        "                inputs = inputs.to(device)\n",
        "                labels = labels.to(device)\n",
        "\n",
        "                optimizer.zero_grad()\n",
        "\n",
        "                with torch.set_grad_enabled(phase == 'train'):\n",
        "                    outputs = model(inputs)\n",
        "                    loss = criterion(outputs.logits, labels)\n",
        "                    _, preds = torch.max(outputs.logits, 1)\n",
        "\n",
        "                    if phase == 'train':\n",
        "                        loss.backward()\n",
        "                        optimizer.step()\n",
        "\n",
        "                running_loss += loss.item() * inputs.size(0)\n",
        "                running_corrects += torch.sum(preds == labels.data)\n",
        "\n",
        "            epoch_loss = running_loss / len(dataloaders[phase].dataset)\n",
        "            epoch_acc = running_corrects.double() / len(dataloaders[phase].dataset)\n",
        "\n",
        "            print('{} Loss: {:.4f} Acc: {:.4f}'.format(phase, epoch_loss, epoch_acc))\n",
        "\n",
        "            if phase == 'val' and epoch_acc > best_acc:\n",
        "                best_acc = epoch_acc\n",
        "                best_model_wts = copy.deepcopy(model.state_dict())\n",
        "            if phase == 'val':\n",
        "                val_acc_history.append(epoch_acc)\n",
        "                val_loss_history.append(epoch_loss)\n",
        "            else:\n",
        "                train_acc_history.append(epoch_acc)\n",
        "                train_loss_history.append(epoch_loss)\n",
        "\n",
        "        print()\n",
        "\n",
        "    print('Best val Acc: {:4f}'.format(best_acc))\n",
        "\n",
        "    model.load_state_dict(best_model_wts)\n",
        "    return model, train_acc_history, val_acc_history, train_loss_history, val_loss_history\n"
      ],
      "metadata": {
        "id": "TEbjp7VQhfXC"
      },
      "execution_count": null,
      "outputs": []
    },
    {
      "cell_type": "code",
      "source": [
        "deit_model = deit_model.to(device)\n",
        "deit_model, train_acc, val_acc, train_loss, val_loss = train_deit_model(deit_model, {'train': train_loader_deit, 'val': val_loader_deit}, criterion, optimizer, num_epochs=25)\n",
        "plt.figure(figsize=(12, 4))\n",
        "plt.subplot(1, 2, 1)\n",
        "plt.plot(train_loss, label='Training Loss')\n",
        "plt.plot(val_loss, label='Validation Loss')\n",
        "plt.legend()\n",
        "plt.title('Loss Curves')\n",
        "\n",
        "plt.subplot(1, 2, 2)\n",
        "plt.plot(train_acc, label='Training Accuracy')\n",
        "plt.plot(val_acc, label='Validation Accuracy')\n",
        "plt.legend()\n",
        "plt.title('Accuracy Curves')\n",
        "\n",
        "plt.show()\n"
      ],
      "metadata": {
        "colab": {
          "base_uri": "https://localhost:8080/"
        },
        "id": "gsCaaxFshpX-",
        "outputId": "566f2d00-9d0a-44f0-aeab-c6be4a5b2eb6"
      },
      "execution_count": null,
      "outputs": [
        {
          "output_type": "stream",
          "name": "stdout",
          "text": [
            "Epoch 0/24\n",
            "----------\n",
            "train Loss: 6.8861 Acc: 0.0000\n",
            "val Loss: 6.8773 Acc: 0.0000\n",
            "\n",
            "Epoch 1/24\n",
            "----------\n",
            "train Loss: 6.8861 Acc: 0.0000\n",
            "val Loss: 6.8773 Acc: 0.0000\n",
            "\n",
            "Epoch 2/24\n",
            "----------\n",
            "train Loss: 6.8861 Acc: 0.0000\n",
            "val Loss: 6.8773 Acc: 0.0000\n",
            "\n",
            "Epoch 3/24\n",
            "----------\n",
            "train Loss: 6.8861 Acc: 0.0000\n",
            "val Loss: 6.8773 Acc: 0.0000\n",
            "\n",
            "Epoch 4/24\n",
            "----------\n",
            "train Loss: 6.8861 Acc: 0.0000\n",
            "val Loss: 6.8773 Acc: 0.0000\n",
            "\n",
            "Epoch 5/24\n",
            "----------\n",
            "train Loss: 6.8861 Acc: 0.0000\n",
            "val Loss: 6.8773 Acc: 0.0000\n",
            "\n",
            "Epoch 6/24\n",
            "----------\n",
            "train Loss: 6.8861 Acc: 0.0000\n",
            "val Loss: 6.8773 Acc: 0.0000\n",
            "\n",
            "Epoch 7/24\n",
            "----------\n",
            "train Loss: 6.8861 Acc: 0.0000\n",
            "val Loss: 6.8773 Acc: 0.0000\n",
            "\n",
            "Epoch 8/24\n",
            "----------\n",
            "train Loss: 6.8861 Acc: 0.0000\n",
            "val Loss: 6.8773 Acc: 0.0000\n",
            "\n",
            "Epoch 9/24\n",
            "----------\n",
            "train Loss: 6.8861 Acc: 0.0000\n",
            "val Loss: 6.8773 Acc: 0.0000\n",
            "\n",
            "Epoch 10/24\n",
            "----------\n",
            "train Loss: 6.8861 Acc: 0.0000\n",
            "val Loss: 6.8773 Acc: 0.0000\n",
            "\n",
            "Epoch 11/24\n",
            "----------\n",
            "train Loss: 6.8861 Acc: 0.0000\n",
            "val Loss: 6.8773 Acc: 0.0000\n",
            "\n",
            "Epoch 12/24\n",
            "----------\n",
            "train Loss: 6.8861 Acc: 0.0000\n",
            "val Loss: 6.8773 Acc: 0.0000\n",
            "\n",
            "Epoch 13/24\n",
            "----------\n",
            "train Loss: 6.8861 Acc: 0.0000\n",
            "val Loss: 6.8773 Acc: 0.0000\n",
            "\n",
            "Epoch 14/24\n",
            "----------\n",
            "train Loss: 6.8861 Acc: 0.0000\n",
            "val Loss: 6.8773 Acc: 0.0000\n",
            "\n",
            "Epoch 15/24\n",
            "----------\n",
            "train Loss: 6.8861 Acc: 0.0000\n",
            "val Loss: 6.8773 Acc: 0.0000\n",
            "\n",
            "Epoch 16/24\n",
            "----------\n",
            "train Loss: 6.8861 Acc: 0.0000\n",
            "val Loss: 6.8773 Acc: 0.0000\n",
            "\n",
            "Epoch 17/24\n",
            "----------\n",
            "train Loss: 6.8861 Acc: 0.0000\n",
            "val Loss: 6.8773 Acc: 0.0000\n",
            "\n",
            "Epoch 18/24\n",
            "----------\n",
            "train Loss: 6.8861 Acc: 0.0000\n",
            "val Loss: 6.8773 Acc: 0.0000\n",
            "\n",
            "Epoch 19/24\n",
            "----------\n"
          ]
        }
      ]
    },
    {
      "cell_type": "code",
      "source": [
        "\n",
        "device = torch.device(\"cuda:0\" if torch.cuda.is_available() else \"cpu\")\n",
        "\n",
        "# Load pre-trained DeiT model and adjust the classifier for your number of classes\n",
        "deit_model = DeiTForImageClassification.from_pretrained('facebook/deit-base-distilled-patch16-224')\n",
        "num_classes = len(classes) # classes is your list of classes\n",
        "deit_model.classifier = torch.nn.Linear(in_features=model.classifier.in_features, out_features=num_classes)\n",
        "deit_model.to(device)\n",
        "\n",
        "# Define your loss function and optimizer\n",
        "criterion = torch.nn.CrossEntropyLoss()\n",
        "optimizer = torch.optim.Adam(deit_model.parameters(), lr=0.001)\n",
        "\n",
        "num_epochs = 20\n",
        "\n",
        "# Start training\n",
        "for epoch in range(num_epochs):\n",
        "    running_loss = 0.0\n",
        "    for i, data in enumerate(train_loader_deit, 0):\n",
        "        inputs, labels = data[0].to(device), data[1].to(device)\n",
        "        \n",
        "        # zero the parameter gradients\n",
        "        optimizer.zero_grad()\n",
        "\n",
        "        # forward + backward + optimize\n",
        "        outputs = deit_model(inputs)\n",
        "        loss = criterion(outputs.logits, labels)\n",
        "        loss.backward()\n",
        "        optimizer.step()\n",
        "\n",
        "        # Print statistics\n",
        "        running_loss += loss.item()\n",
        "        if i % 2000 == 1999:    # print every 2000 mini-batches\n",
        "            print('[%d, %5d] loss: %.3f' % (epoch + 1, i + 1, running_loss / 2000))\n",
        "            running_loss = 0.0\n"
      ],
      "metadata": {
        "colab": {
          "base_uri": "https://localhost:8080/"
        },
        "id": "QeGU56nE5WU1",
        "outputId": "c68588c0-0645-4672-d013-675270b4e1fd"
      },
      "execution_count": null,
      "outputs": [
        {
          "output_type": "stream",
          "name": "stderr",
          "text": [
            "Some weights of the model checkpoint at facebook/deit-base-distilled-patch16-224 were not used when initializing DeiTForImageClassification: ['distillation_classifier.bias', 'cls_classifier.bias', 'cls_classifier.weight', 'distillation_classifier.weight']\n",
            "- This IS expected if you are initializing DeiTForImageClassification from the checkpoint of a model trained on another task or with another architecture (e.g. initializing a BertForSequenceClassification model from a BertForPreTraining model).\n",
            "- This IS NOT expected if you are initializing DeiTForImageClassification from the checkpoint of a model that you expect to be exactly identical (initializing a BertForSequenceClassification model from a BertForSequenceClassification model).\n",
            "Some weights of DeiTForImageClassification were not initialized from the model checkpoint at facebook/deit-base-distilled-patch16-224 and are newly initialized: ['classifier.bias', 'classifier.weight']\n",
            "You should probably TRAIN this model on a down-stream task to be able to use it for predictions and inference.\n"
          ]
        }
      ]
    },
    {
      "cell_type": "code",
      "source": [
        "running_loss"
      ],
      "metadata": {
        "colab": {
          "base_uri": "https://localhost:8080/"
        },
        "id": "EGHRknGetH1z",
        "outputId": "87e56c47-35dc-4f47-d24d-7ee6d7203fcf"
      },
      "execution_count": null,
      "outputs": [
        {
          "output_type": "execute_result",
          "data": {
            "text/plain": [
              "60.25002270936966"
            ]
          },
          "metadata": {},
          "execution_count": 62
        }
      ]
    },
    {
      "cell_type": "code",
      "source": [],
      "metadata": {
        "id": "7_rg4k81hImX"
      },
      "execution_count": null,
      "outputs": []
    }
  ],
  "metadata": {
    "kernelspec": {
      "display_name": "Python 3",
      "language": "python",
      "name": "python3"
    },
    "language_info": {
      "codemirror_mode": {
        "name": "ipython",
        "version": 3
      },
      "file_extension": ".py",
      "mimetype": "text/x-python",
      "name": "python",
      "nbconvert_exporter": "python",
      "pygments_lexer": "ipython3",
      "version": "3.10.4"
    },
    "orig_nbformat": 4,
    "colab": {
      "provenance": [],
      "machine_shape": "hm",
      "gpuType": "T4",
      "include_colab_link": true
    },
    "accelerator": "GPU"
  },
  "nbformat": 4,
  "nbformat_minor": 0
}